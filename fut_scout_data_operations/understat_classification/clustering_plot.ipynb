{
 "cells": [
  {
   "cell_type": "markdown",
   "metadata": {},
   "source": [
    "# Veri seti üzerindeki kümeleme işlemleri\n"
   ]
  },
  {
   "cell_type": "markdown",
   "metadata": {},
   "source": [
    "## Kütüphanelerin yüklenmesi"
   ]
  },
  {
   "cell_type": "code",
   "execution_count": 43,
   "metadata": {},
   "outputs": [],
   "source": [
    "import numpy as np\n",
    "import pandas as pd\n",
    "from matplotlib import pyplot as plt\n",
    "from sklearn.preprocessing import MinMaxScaler\n",
    "from sklearn.cluster import KMeans\n",
    "from sklearn.decomposition import PCA\n",
    "from sklearn.preprocessing import StandardScaler"
   ]
  },
  {
   "cell_type": "markdown",
   "metadata": {},
   "source": [
    "## Veri setinin çekilmesi"
   ]
  },
  {
   "cell_type": "code",
   "execution_count": 44,
   "metadata": {},
   "outputs": [
    {
     "name": "stdout",
     "output_type": "stream",
     "text": [
      " Volume in drive C has no label.\n",
      " Volume Serial Number is 7096-3171\n",
      "\n",
      " Directory of C:\\Users\\bugra\\Desktop\\fut_scout_data\\fut_scout_data_operations\\understat_classification\n",
      "\n",
      "14.05.2022  19:28    <DIR>          .\n",
      "14.05.2022  19:28    <DIR>          ..\n",
      "14.05.2022  18:48               673 clustering.py\n",
      "14.05.2022  19:26            28.385 clustering_plot.ipynb\n",
      "14.05.2022  18:33    <DIR>          data\n",
      "14.05.2022  18:33             1.615 data_append.py\n",
      "14.05.2022  18:33    <DIR>          figures\n",
      "14.05.2022  18:33             2.477 full_data.py\n",
      "14.05.2022  18:33    <DIR>          model\n",
      "14.05.2022  19:22             4.295 train.py\n",
      "14.05.2022  19:29           109.187 training_with_custom_parameters.ipynb\n",
      "14.05.2022  18:33    <DIR>          understat_classification\n",
      "               6 File(s)        146.632 bytes\n",
      "               6 Dir(s)  289.574.313.984 bytes free\n"
     ]
    }
   ],
   "source": [
    "%ls"
   ]
  },
  {
   "cell_type": "code",
   "execution_count": 59,
   "metadata": {},
   "outputs": [
    {
     "name": "stderr",
     "output_type": "stream",
     "text": [
      "C:\\Users\\bugra\\AppData\\Local\\Temp\\ipykernel_13936\\4020185954.py:7: UserWarning: Boolean Series key will be reindexed to match DataFrame index.\n",
      "  df_last2 = df_last[df_nongk2]\n"
     ]
    }
   ],
   "source": [
    "\n",
    "df = pd.read_csv('data/total_statistics_by_player.csv').drop(['Unnamed: 0'], axis = 1)\n",
    "\n",
    "df_nongk = df['position'] != 'GK'\n",
    "df_nongk2 = df['position'] != 'GK S'\n",
    "\n",
    "df_last = df[df_nongk]\n",
    "df_last2 = df_last[df_nongk2]"
   ]
  },
  {
   "cell_type": "markdown",
   "metadata": {},
   "source": [
    "## Veri setinin ana halinin ve kategorik kısımlarının atılması sonucu saklanması\n",
    "KMeans ve PCA objesi tanımlanıyor, temel bileşen analizi için(**PCA**) belirlenen değer 2 ve verilerin bölüneceği küme sayısı(**Clustering**) 10 olarak belirleniyor."
   ]
  },
  {
   "cell_type": "code",
   "execution_count": 60,
   "metadata": {},
   "outputs": [],
   "source": [
    "df_last_val = df_last2.drop(['id', 'player_name', 'position'], axis=1)\n",
    "\n",
    "pca = PCA(2)\n",
    "sc = StandardScaler()\n",
    "kmeans = KMeans(n_clusters= 10)"
   ]
  },
  {
   "cell_type": "markdown",
   "metadata": {},
   "source": [
    "## Temel bileşen analizi ve Clustering'in uygulanması\n",
    "\n",
    "İsim, id ve pozisyon gibi kümelemede bizi yanıltacak sütunların atıldığı ve standardizasyonun uygulandığı veri seti üzerinde temel bileşenler analizi yapılıyor. \n",
    "</br>\n",
    "Analiz edilen verilere Clustering uygulanıyor.\n",
    "</br>\n",
    "Kümeler belirlendikten sonra ana veri setimize ekleniyor.\n",
    "</br>\n",
    "Küme sayımız ve kümelerin merkezleri grafik üzerinde kullanılmak üzere değişkenlere atanıyor."
   ]
  },
  {
   "cell_type": "code",
   "execution_count": 61,
   "metadata": {},
   "outputs": [
    {
     "name": "stderr",
     "output_type": "stream",
     "text": [
      "C:\\Users\\bugra\\AppData\\Local\\Temp\\ipykernel_13936\\4237008473.py:4: SettingWithCopyWarning: \n",
      "A value is trying to be set on a copy of a slice from a DataFrame.\n",
      "Try using .loc[row_indexer,col_indexer] = value instead\n",
      "\n",
      "See the caveats in the documentation: https://pandas.pydata.org/pandas-docs/stable/user_guide/indexing.html#returning-a-view-versus-a-copy\n",
      "  df_last2['classes'] = classes.reshape(-1,1)\n"
     ]
    }
   ],
   "source": [
    "df_last_val = sc.fit_transform(df_last_val)\n",
    "df_last_val = pca.fit_transform(df_last_val)\n",
    "classes = kmeans.fit_predict(df_last_val)\n",
    "df_last2['classes'] = classes.reshape(-1,1)\n",
    "u_labels = np.unique(classes)\n",
    "centroids = kmeans.cluster_centers_"
   ]
  },
  {
   "cell_type": "markdown",
   "metadata": {},
   "source": [
    "## Kümelerin grafik üzerinde görüntülenmesi\n",
    "Kümeler merkez noktalarıyla beraber **Matplotlib** kütüphanesi yardımıyla grafik üzerinde gösteriliyor."
   ]
  },
  {
   "cell_type": "code",
   "execution_count": 62,
   "metadata": {},
   "outputs": [
    {
     "data": {
      "image/png": "[encoded data removed]",
      "text/plain": [
       "<Figure size 432x288 with 1 Axes>"
      ]
     },
     "metadata": {
      "needs_background": "light"
     },
     "output_type": "display_data"
    }
   ],
   "source": [
    "for i in u_labels:\n",
    "    plt.scatter(df_last_val[classes == i , 0] , df_last_val[classes == i , 1] , label = i)\n",
    "plt.scatter(centroids[:,0] , centroids[:,1] , s = 80, color = 'k')\n",
    "\n",
    "plt.legend()\n",
    "plt.show()\n",
    "\n",
    "df_last2.to_csv('data/clustered_data.csv')"
   ]
  },
  {
   "cell_type": "code",
   "execution_count": null,
   "metadata": {},
   "outputs": [],
   "source": []
  }
 ],
 "metadata": {
  "interpreter": {
   "hash": "7655d9d87d72f7863ec8a6d3178f838b8e50288ba076228c8841638c6799c4ae"
  },
  "kernelspec": {
   "display_name": "Python 3.8.8 64-bit",
   "language": "python",
   "name": "python3"
  },
  "language_info": {
   "codemirror_mode": {
    "name": "ipython",
    "version": 3
   },
   "file_extension": ".py",
   "mimetype": "text/x-python",
   "name": "python",
   "nbconvert_exporter": "python",
   "pygments_lexer": "ipython3",
   "version": "3.8.8"
  },
  "orig_nbformat": 4
 },
 "nbformat": 4,
 "nbformat_minor": 2
}
