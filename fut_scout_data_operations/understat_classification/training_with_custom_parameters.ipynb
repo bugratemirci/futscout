{
 "cells": [
  {
   "cell_type": "markdown",
   "metadata": {},
   "source": [
    "# Kümeleme işlemi uygulanmış veri üzerinde eğitim ve ilgili metriklerin sunumu"
   ]
  },
  {
   "cell_type": "code",
   "execution_count": 16,
   "metadata": {},
   "outputs": [
    {
     "name": "stdout",
     "output_type": "stream",
     "text": [
      " Volume in drive C has no label.\n",
      " Volume Serial Number is 7096-3171\n",
      "\n",
      " Directory of c:\\Users\\bugra\\Desktop\\fut_scout_data\\fut_scout_data_operations\\understat_classification\n",
      "\n",
      "14.05.2022  19:41    <DIR>          .\n",
      "14.05.2022  19:41    <DIR>          ..\n",
      "14.05.2022  18:48               673 clustering.py\n",
      "14.05.2022  19:38            27.695 clustering_plot.ipynb\n",
      "14.05.2022  19:02             1.032 clustering_plot.py\n",
      "14.05.2022  18:33    <DIR>          data\n",
      "14.05.2022  18:33             1.615 data_append.py\n",
      "14.05.2022  19:41    <DIR>          figures\n",
      "14.05.2022  18:33             2.477 full_data.py\n",
      "14.05.2022  18:33    <DIR>          model\n",
      "14.05.2022  19:22             4.295 train.py\n",
      "14.05.2022  19:41            26.287 training_with_custom_parameters.ipynb\n",
      "14.05.2022  19:41                 0 training_with_hyper_parameter_tuning.ipynb\n",
      "14.05.2022  18:33    <DIR>          understat_classification\n",
      "               8 File(s)         64.074 bytes\n",
      "               6 Dir(s)  287.937.683.456 bytes free\n"
     ]
    }
   ],
   "source": [
    "%ls"
   ]
  },
  {
   "cell_type": "markdown",
   "metadata": {},
   "source": [
    "## Kütüphanelerin eklenmesi"
   ]
  },
  {
   "cell_type": "code",
   "execution_count": 17,
   "metadata": {},
   "outputs": [],
   "source": [
    "\n",
    "import matplotlib.pyplot as plt\n",
    "import seaborn as sns\n",
    "import pandas as pd\n",
    "import numpy as np\n",
    "\n",
    "from sklearn.model_selection import train_test_split\n",
    "from sklearn.neighbors import KNeighborsClassifier\n",
    "from sklearn.preprocessing import StandardScaler\n",
    "from sklearn.tree import DecisionTreeClassifier\n",
    "from sklearn.decomposition import PCA\n",
    "from sklearn import metrics\n",
    "\n",
    "from tensorflow.keras.utils import to_categorical\n",
    "from tensorflow.keras.optimizers import Adam\n",
    "from keras import callbacks\n",
    "import tensorflow as tf\n",
    "import keras"
   ]
  },
  {
   "cell_type": "markdown",
   "metadata": {},
   "source": [
    "## Kullanacağımız Yapay Sinir Ağı Modelinin Tanımlanması"
   ]
  },
  {
   "cell_type": "code",
   "execution_count": 18,
   "metadata": {},
   "outputs": [],
   "source": [
    "def createModel(n_cols):\n",
    "\n",
    "    model = keras.Sequential([\n",
    "\n",
    "        keras.layers.Dense(units=128, activation='relu'),\n",
    "        keras.layers.Dense(units=128, activation='relu'),\n",
    "        keras.layers.Dense(units=64, activation='relu'),\n",
    "        keras.layers.Dropout(0.25),\n",
    "        keras.layers.Dense(units=32, activation='relu'),\n",
    "        keras.layers.Dropout(0.5),\n",
    "        keras.layers.Dense(units=8, activation='relu'),\n",
    "        keras.layers.Dense(units=n_cols, activation='softmax'),\n",
    "    ]\n",
    "    )\n",
    "\n",
    "    optim = Adam(lr=0.001)\n",
    "    model.compile(optimizer=optim, loss='categorical_crossentropy',\n",
    "                  metrics=['accuracy'])\n",
    "\n",
    "    return model"
   ]
  },
  {
   "cell_type": "markdown",
   "metadata": {},
   "source": [
    "## KNN Eğitim Fonksiyonunun oluşturulması"
   ]
  },
  {
   "cell_type": "code",
   "execution_count": 19,
   "metadata": {},
   "outputs": [],
   "source": [
    "def knn(X_train, y_train, X_test, y_test):\n",
    "        plt.clf()\n",
    "        dt = KNeighborsClassifier()\n",
    "        dt.fit(X_train, y_train)\n",
    "\n",
    "        y_pred = dt.predict(X_test)\n",
    "        cnf_matrix = metrics.confusion_matrix(\n",
    "                y_test.argmax(axis=1), y_pred.argmax(axis=1))\n",
    "        p = sns.heatmap(pd.DataFrame(cnf_matrix),\n",
    "                        annot=True, cmap=\"YlGnBu\", fmt='g')\n",
    "        plt.title('Confusion matrix', y=1.1)\n",
    "        plt.ylabel('Actual label')\n",
    "        plt.xlabel('Predicted label')\n",
    "\n",
    "        plt.savefig('knn_default_parameters_cm.png')\n",
    "        plt.clf()"
   ]
  },
  {
   "cell_type": "markdown",
   "metadata": {},
   "source": [
    "## Decision Tree Eğitim Fonksiyonunun oluşturulması"
   ]
  },
  {
   "cell_type": "code",
   "execution_count": 20,
   "metadata": {},
   "outputs": [],
   "source": [
    "def decision_tree(X_train, y_train, X_test, y_test):\n",
    "        plt.clf()\n",
    "        dt = DecisionTreeClassifier()\n",
    "        dt.fit(X_train, y_train)\n",
    "\n",
    "        y_pred = dt.predict(X_test)\n",
    "        cnf_matrix = metrics.confusion_matrix(\n",
    "                y_test.argmax(axis=1), y_pred.argmax(axis=1))\n",
    "        p = sns.heatmap(pd.DataFrame(cnf_matrix),\n",
    "                        annot=True, cmap=\"YlGnBu\", fmt='g')\n",
    "        plt.title('Confusion matrix', y=1.1)\n",
    "        plt.ylabel('Actual label')\n",
    "        plt.xlabel('Predicted label')\n",
    "\n",
    "        plt.savefig('decision_tree_default_parameters_cm.png')\n",
    "        plt.clf()"
   ]
  },
  {
   "cell_type": "markdown",
   "metadata": {},
   "source": [
    "## ANN Eğitim Fonksiyonunun oluşturulması"
   ]
  },
  {
   "cell_type": "code",
   "execution_count": 21,
   "metadata": {},
   "outputs": [],
   "source": [
    "def ann_model(X_train, y_train, X_test, y_test):\n",
    "        early_stopping = callbacks.EarlyStopping(\n",
    "        min_delta=0.00001,\n",
    "        patience=12,\n",
    "        restore_best_weights=True)\n",
    "        model = createModel(n_cols=n_cols)\n",
    "\n",
    "        history = model.fit(X_train, y_train, batch_size=128, epochs=1000, callbacks=[\n",
    "                        early_stopping], validation_split=0.2)\n",
    "        model.save('model/model_sc_pca.h5')\n",
    "        plt.subplot(211)\n",
    "        plt.title('Loss')\n",
    "        plt.plot(history.history['loss'], label='train')\n",
    "        plt.plot(history.history['val_loss'], label='test')\n",
    "        plt.legend()\n",
    "        \n",
    "        plt.subplot(212)\n",
    "        plt.title('Accuracy')\n",
    "        plt.plot(history.history['accuracy'], label='train')\n",
    "        plt.plot(history.history['val_accuracy'], label='test')\n",
    "        plt.legend()\n",
    "        plt.savefig('ann_default_parameters_acc_loss.png')\n",
    "        plt.clf()\n",
    "        y_pred = model.predict(X_test)\n",
    "        cnf_matrix = metrics.confusion_matrix(\n",
    "                y_test.argmax(axis=1), y_pred.argmax(axis=1))\n",
    "        sns.heatmap(pd.DataFrame(cnf_matrix),\n",
    "                        annot=True, cmap=\"YlGnBu\", fmt='g')\n",
    "        plt.title('Confusion matrix', y=1.1)\n",
    "        plt.ylabel('Actual label')\n",
    "        plt.xlabel('Predicted label')\n",
    "\n",
    "        plt.savefig('ann_default_parameters_cm.png')\n",
    "        plt.clf()"
   ]
  },
  {
   "cell_type": "code",
   "execution_count": 22,
   "metadata": {},
   "outputs": [],
   "source": [
    "df = pd.read_csv('data/clustered_data.csv').drop(['id', 'player_name', 'position'], axis=1)\n",
    "X = df.drop(['classes'], axis = 1).values\n",
    "y = df['classes']\n",
    "n_cols = len(np.unique(y))\n",
    "\n",
    "sc = StandardScaler()\n",
    "X = sc.fit_transform(X)\n",
    "\n",
    "pca = PCA(2)\n",
    "X = pca.fit_transform(X)\n",
    "\n",
    "X_train, X_test, y_train, y_test = train_test_split(\n",
    "        X, y, test_size=0.36, random_state=14)\n",
    "\n",
    "y_train = to_categorical(y_train)\n",
    "y_test = to_categorical(y_test)"
   ]
  },
  {
   "cell_type": "code",
   "execution_count": 23,
   "metadata": {},
   "outputs": [
    {
     "name": "stdout",
     "output_type": "stream",
     "text": [
      "Epoch 1/1000\n"
     ]
    },
    {
     "name": "stderr",
     "output_type": "stream",
     "text": [
      "c:\\Users\\bugra\\AppData\\Local\\Programs\\Python\\Python38\\lib\\site-packages\\keras\\optimizer_v2\\adam.py:105: UserWarning: The `lr` argument is deprecated, use `learning_rate` instead.\n",
      "  super(Adam, self).__init__(name, **kwargs)\n"
     ]
    },
    {
     "name": "stdout",
     "output_type": "stream",
     "text": [
      "30/30 [==============================] - 1s 17ms/step - loss: 1.9017 - accuracy: 0.2743 - val_loss: 1.4163 - val_accuracy: 0.4106\n",
      "Epoch 2/1000\n",
      "30/30 [==============================] - 0s 11ms/step - loss: 1.4292 - accuracy: 0.4215 - val_loss: 1.1266 - val_accuracy: 0.5820\n",
      "Epoch 3/1000\n",
      "30/30 [==============================] - 0s 12ms/step - loss: 1.1811 - accuracy: 0.5293 - val_loss: 0.8825 - val_accuracy: 0.6656\n",
      "Epoch 4/1000\n",
      "30/30 [==============================] - 0s 11ms/step - loss: 0.9835 - accuracy: 0.6209 - val_loss: 0.7418 - val_accuracy: 0.7217\n",
      "Epoch 5/1000\n",
      "30/30 [==============================] - 0s 11ms/step - loss: 0.8751 - accuracy: 0.6675 - val_loss: 0.6189 - val_accuracy: 0.7799\n",
      "Epoch 6/1000\n",
      "30/30 [==============================] - 0s 11ms/step - loss: 0.7697 - accuracy: 0.7133 - val_loss: 0.5162 - val_accuracy: 0.8148\n",
      "Epoch 7/1000\n",
      "30/30 [==============================] - 0s 9ms/step - loss: 0.6760 - accuracy: 0.7424 - val_loss: 0.4314 - val_accuracy: 0.8212\n",
      "Epoch 8/1000\n",
      "30/30 [==============================] - 0s 9ms/step - loss: 0.6083 - accuracy: 0.7689 - val_loss: 0.3608 - val_accuracy: 0.8487\n",
      "Epoch 9/1000\n",
      "30/30 [==============================] - 0s 9ms/step - loss: 0.5535 - accuracy: 0.7919 - val_loss: 0.3243 - val_accuracy: 0.8899\n",
      "Epoch 10/1000\n",
      "30/30 [==============================] - 0s 9ms/step - loss: 0.5130 - accuracy: 0.8033 - val_loss: 0.3087 - val_accuracy: 0.9143\n",
      "Epoch 11/1000\n",
      "30/30 [==============================] - 0s 9ms/step - loss: 0.4727 - accuracy: 0.8290 - val_loss: 0.2663 - val_accuracy: 0.9333\n",
      "Epoch 12/1000\n",
      "30/30 [==============================] - 0s 9ms/step - loss: 0.4330 - accuracy: 0.8398 - val_loss: 0.2412 - val_accuracy: 0.9217\n",
      "Epoch 13/1000\n",
      "30/30 [==============================] - 0s 10ms/step - loss: 0.4146 - accuracy: 0.8544 - val_loss: 0.2336 - val_accuracy: 0.9333\n",
      "Epoch 14/1000\n",
      "30/30 [==============================] - 0s 11ms/step - loss: 0.3920 - accuracy: 0.8615 - val_loss: 0.2150 - val_accuracy: 0.9418\n",
      "Epoch 15/1000\n",
      "30/30 [==============================] - 0s 11ms/step - loss: 0.3699 - accuracy: 0.8764 - val_loss: 0.2039 - val_accuracy: 0.9386\n",
      "Epoch 16/1000\n",
      "30/30 [==============================] - 0s 11ms/step - loss: 0.3586 - accuracy: 0.8798 - val_loss: 0.1876 - val_accuracy: 0.9429\n",
      "Epoch 17/1000\n",
      "30/30 [==============================] - 0s 11ms/step - loss: 0.3364 - accuracy: 0.8877 - val_loss: 0.1763 - val_accuracy: 0.9481\n",
      "Epoch 18/1000\n",
      "30/30 [==============================] - 0s 11ms/step - loss: 0.3388 - accuracy: 0.8811 - val_loss: 0.1918 - val_accuracy: 0.9450\n",
      "Epoch 19/1000\n",
      "30/30 [==============================] - 0s 11ms/step - loss: 0.3165 - accuracy: 0.8896 - val_loss: 0.1645 - val_accuracy: 0.9566\n",
      "Epoch 20/1000\n",
      "30/30 [==============================] - 0s 11ms/step - loss: 0.2997 - accuracy: 0.8944 - val_loss: 0.1650 - val_accuracy: 0.9534\n",
      "Epoch 21/1000\n",
      "30/30 [==============================] - 0s 10ms/step - loss: 0.3005 - accuracy: 0.8959 - val_loss: 0.1441 - val_accuracy: 0.9587\n",
      "Epoch 22/1000\n",
      "30/30 [==============================] - 0s 9ms/step - loss: 0.3009 - accuracy: 0.8933 - val_loss: 0.1558 - val_accuracy: 0.9534\n",
      "Epoch 23/1000\n",
      "30/30 [==============================] - 0s 9ms/step - loss: 0.2851 - accuracy: 0.9020 - val_loss: 0.1504 - val_accuracy: 0.9587\n",
      "Epoch 24/1000\n",
      "30/30 [==============================] - 0s 9ms/step - loss: 0.2772 - accuracy: 0.9116 - val_loss: 0.1450 - val_accuracy: 0.9481\n",
      "Epoch 25/1000\n",
      "30/30 [==============================] - 0s 9ms/step - loss: 0.2636 - accuracy: 0.9113 - val_loss: 0.1604 - val_accuracy: 0.9492\n",
      "Epoch 26/1000\n",
      "30/30 [==============================] - 0s 8ms/step - loss: 0.2739 - accuracy: 0.9089 - val_loss: 0.1443 - val_accuracy: 0.9534\n",
      "Epoch 27/1000\n",
      "30/30 [==============================] - 0s 9ms/step - loss: 0.2538 - accuracy: 0.9124 - val_loss: 0.1501 - val_accuracy: 0.9524\n",
      "Epoch 28/1000\n",
      "30/30 [==============================] - 0s 10ms/step - loss: 0.2582 - accuracy: 0.9158 - val_loss: 0.1294 - val_accuracy: 0.9556\n",
      "Epoch 29/1000\n",
      "30/30 [==============================] - 0s 10ms/step - loss: 0.2458 - accuracy: 0.9158 - val_loss: 0.1647 - val_accuracy: 0.9471\n",
      "Epoch 30/1000\n",
      "30/30 [==============================] - 0s 10ms/step - loss: 0.2478 - accuracy: 0.9200 - val_loss: 0.1381 - val_accuracy: 0.9640\n",
      "Epoch 31/1000\n",
      "30/30 [==============================] - 0s 10ms/step - loss: 0.2485 - accuracy: 0.9153 - val_loss: 0.1232 - val_accuracy: 0.9566\n",
      "Epoch 32/1000\n",
      "30/30 [==============================] - 0s 10ms/step - loss: 0.2454 - accuracy: 0.9142 - val_loss: 0.1432 - val_accuracy: 0.9481\n",
      "Epoch 33/1000\n",
      "30/30 [==============================] - 0s 10ms/step - loss: 0.2380 - accuracy: 0.9243 - val_loss: 0.1227 - val_accuracy: 0.9640\n",
      "Epoch 34/1000\n",
      "30/30 [==============================] - 0s 11ms/step - loss: 0.2252 - accuracy: 0.9214 - val_loss: 0.1033 - val_accuracy: 0.9630\n",
      "Epoch 35/1000\n",
      "30/30 [==============================] - 0s 9ms/step - loss: 0.2030 - accuracy: 0.9309 - val_loss: 0.1419 - val_accuracy: 0.9534\n",
      "Epoch 36/1000\n",
      "30/30 [==============================] - 0s 9ms/step - loss: 0.2250 - accuracy: 0.9296 - val_loss: 0.1205 - val_accuracy: 0.9630\n",
      "Epoch 37/1000\n",
      "30/30 [==============================] - 0s 9ms/step - loss: 0.2115 - accuracy: 0.9330 - val_loss: 0.1000 - val_accuracy: 0.9683\n",
      "Epoch 38/1000\n",
      "30/30 [==============================] - 0s 9ms/step - loss: 0.2078 - accuracy: 0.9267 - val_loss: 0.1205 - val_accuracy: 0.9566\n",
      "Epoch 39/1000\n",
      "30/30 [==============================] - 0s 9ms/step - loss: 0.1987 - accuracy: 0.9343 - val_loss: 0.1146 - val_accuracy: 0.9566\n",
      "Epoch 40/1000\n",
      "30/30 [==============================] - 0s 9ms/step - loss: 0.2173 - accuracy: 0.9267 - val_loss: 0.0969 - val_accuracy: 0.9683\n",
      "Epoch 41/1000\n",
      "30/30 [==============================] - 0s 9ms/step - loss: 0.1979 - accuracy: 0.9330 - val_loss: 0.0975 - val_accuracy: 0.9651\n",
      "Epoch 42/1000\n",
      "30/30 [==============================] - 0s 11ms/step - loss: 0.2158 - accuracy: 0.9298 - val_loss: 0.1047 - val_accuracy: 0.9640\n",
      "Epoch 43/1000\n",
      "30/30 [==============================] - 0s 10ms/step - loss: 0.2017 - accuracy: 0.9359 - val_loss: 0.1112 - val_accuracy: 0.9608\n",
      "Epoch 44/1000\n",
      "30/30 [==============================] - 0s 11ms/step - loss: 0.1941 - accuracy: 0.9335 - val_loss: 0.0898 - val_accuracy: 0.9651\n",
      "Epoch 45/1000\n",
      "30/30 [==============================] - 0s 11ms/step - loss: 0.1792 - accuracy: 0.9351 - val_loss: 0.0840 - val_accuracy: 0.9735\n",
      "Epoch 46/1000\n",
      "30/30 [==============================] - 0s 10ms/step - loss: 0.1950 - accuracy: 0.9365 - val_loss: 0.0974 - val_accuracy: 0.9640\n",
      "Epoch 47/1000\n",
      "30/30 [==============================] - 0s 11ms/step - loss: 0.1916 - accuracy: 0.9375 - val_loss: 0.0839 - val_accuracy: 0.9661\n",
      "Epoch 48/1000\n",
      "30/30 [==============================] - 0s 9ms/step - loss: 0.1755 - accuracy: 0.9391 - val_loss: 0.0818 - val_accuracy: 0.9683\n",
      "Epoch 49/1000\n",
      "30/30 [==============================] - 0s 9ms/step - loss: 0.1743 - accuracy: 0.9420 - val_loss: 0.0998 - val_accuracy: 0.9587\n",
      "Epoch 50/1000\n",
      "30/30 [==============================] - 0s 9ms/step - loss: 0.1759 - accuracy: 0.9420 - val_loss: 0.0986 - val_accuracy: 0.9661\n",
      "Epoch 51/1000\n",
      "30/30 [==============================] - 0s 9ms/step - loss: 0.1837 - accuracy: 0.9380 - val_loss: 0.0788 - val_accuracy: 0.9683\n",
      "Epoch 52/1000\n",
      "30/30 [==============================] - 0s 9ms/step - loss: 0.1743 - accuracy: 0.9359 - val_loss: 0.1170 - val_accuracy: 0.9524\n",
      "Epoch 53/1000\n",
      "30/30 [==============================] - 0s 9ms/step - loss: 0.1928 - accuracy: 0.9357 - val_loss: 0.1014 - val_accuracy: 0.9598\n",
      "Epoch 54/1000\n",
      "30/30 [==============================] - 0s 9ms/step - loss: 0.1708 - accuracy: 0.9428 - val_loss: 0.0914 - val_accuracy: 0.9598\n",
      "Epoch 55/1000\n",
      "30/30 [==============================] - 0s 11ms/step - loss: 0.1648 - accuracy: 0.9420 - val_loss: 0.0688 - val_accuracy: 0.9735\n",
      "Epoch 56/1000\n",
      "30/30 [==============================] - 0s 11ms/step - loss: 0.1633 - accuracy: 0.9439 - val_loss: 0.0743 - val_accuracy: 0.9704\n",
      "Epoch 57/1000\n",
      "30/30 [==============================] - 0s 10ms/step - loss: 0.1478 - accuracy: 0.9494 - val_loss: 0.0785 - val_accuracy: 0.9693\n",
      "Epoch 58/1000\n",
      "30/30 [==============================] - 0s 11ms/step - loss: 0.1403 - accuracy: 0.9494 - val_loss: 0.0789 - val_accuracy: 0.9683\n",
      "Epoch 59/1000\n",
      "30/30 [==============================] - 0s 10ms/step - loss: 0.1640 - accuracy: 0.9439 - val_loss: 0.0847 - val_accuracy: 0.9651\n",
      "Epoch 60/1000\n",
      "30/30 [==============================] - 0s 10ms/step - loss: 0.1505 - accuracy: 0.9497 - val_loss: 0.0914 - val_accuracy: 0.9587\n",
      "Epoch 61/1000\n",
      "30/30 [==============================] - 0s 10ms/step - loss: 0.1518 - accuracy: 0.9486 - val_loss: 0.0790 - val_accuracy: 0.9683\n",
      "Epoch 62/1000\n",
      "30/30 [==============================] - 0s 11ms/step - loss: 0.1467 - accuracy: 0.9502 - val_loss: 0.0631 - val_accuracy: 0.9767\n",
      "Epoch 63/1000\n",
      "30/30 [==============================] - 0s 10ms/step - loss: 0.1595 - accuracy: 0.9494 - val_loss: 0.0594 - val_accuracy: 0.9714\n",
      "Epoch 64/1000\n",
      "30/30 [==============================] - 0s 10ms/step - loss: 0.1505 - accuracy: 0.9470 - val_loss: 0.0583 - val_accuracy: 0.9757\n",
      "Epoch 65/1000\n",
      "30/30 [==============================] - 0s 10ms/step - loss: 0.1372 - accuracy: 0.9494 - val_loss: 0.0636 - val_accuracy: 0.9725\n",
      "Epoch 66/1000\n",
      "30/30 [==============================] - 0s 9ms/step - loss: 0.1429 - accuracy: 0.9476 - val_loss: 0.0659 - val_accuracy: 0.9746\n",
      "Epoch 67/1000\n",
      "30/30 [==============================] - 0s 9ms/step - loss: 0.1304 - accuracy: 0.9555 - val_loss: 0.0562 - val_accuracy: 0.9767\n",
      "Epoch 68/1000\n",
      "30/30 [==============================] - 0s 9ms/step - loss: 0.1413 - accuracy: 0.9523 - val_loss: 0.0886 - val_accuracy: 0.9640\n",
      "Epoch 69/1000\n",
      "30/30 [==============================] - 0s 9ms/step - loss: 0.1446 - accuracy: 0.9465 - val_loss: 0.0535 - val_accuracy: 0.9757\n",
      "Epoch 70/1000\n",
      "30/30 [==============================] - 0s 10ms/step - loss: 0.1518 - accuracy: 0.9447 - val_loss: 0.0545 - val_accuracy: 0.9799\n",
      "Epoch 71/1000\n",
      "30/30 [==============================] - 0s 10ms/step - loss: 0.1419 - accuracy: 0.9534 - val_loss: 0.0651 - val_accuracy: 0.9704\n",
      "Epoch 72/1000\n",
      "30/30 [==============================] - 0s 10ms/step - loss: 0.1389 - accuracy: 0.9550 - val_loss: 0.0637 - val_accuracy: 0.9757\n",
      "Epoch 73/1000\n",
      "30/30 [==============================] - 0s 11ms/step - loss: 0.1339 - accuracy: 0.9563 - val_loss: 0.0507 - val_accuracy: 0.9810\n",
      "Epoch 74/1000\n",
      "30/30 [==============================] - 0s 10ms/step - loss: 0.1356 - accuracy: 0.9489 - val_loss: 0.0687 - val_accuracy: 0.9788\n",
      "Epoch 75/1000\n",
      "30/30 [==============================] - 0s 10ms/step - loss: 0.1272 - accuracy: 0.9560 - val_loss: 0.0646 - val_accuracy: 0.9683\n",
      "Epoch 76/1000\n",
      "30/30 [==============================] - 0s 10ms/step - loss: 0.1496 - accuracy: 0.9484 - val_loss: 0.0702 - val_accuracy: 0.9661\n",
      "Epoch 77/1000\n",
      "30/30 [==============================] - 0s 9ms/step - loss: 0.1398 - accuracy: 0.9489 - val_loss: 0.0593 - val_accuracy: 0.9683\n",
      "Epoch 78/1000\n",
      "30/30 [==============================] - 0s 9ms/step - loss: 0.1462 - accuracy: 0.9470 - val_loss: 0.0928 - val_accuracy: 0.9619\n",
      "Epoch 79/1000\n",
      "30/30 [==============================] - 0s 9ms/step - loss: 0.1287 - accuracy: 0.9563 - val_loss: 0.0523 - val_accuracy: 0.9714\n",
      "Epoch 80/1000\n",
      "30/30 [==============================] - 0s 9ms/step - loss: 0.1398 - accuracy: 0.9489 - val_loss: 0.0679 - val_accuracy: 0.9735\n",
      "Epoch 81/1000\n",
      "30/30 [==============================] - 0s 9ms/step - loss: 0.1423 - accuracy: 0.9526 - val_loss: 0.0787 - val_accuracy: 0.9661\n",
      "Epoch 82/1000\n",
      "30/30 [==============================] - 0s 9ms/step - loss: 0.1475 - accuracy: 0.9500 - val_loss: 0.0538 - val_accuracy: 0.9757\n",
      "Epoch 83/1000\n",
      "30/30 [==============================] - 0s 10ms/step - loss: 0.1250 - accuracy: 0.9539 - val_loss: 0.0522 - val_accuracy: 0.9778\n",
      "Epoch 84/1000\n",
      "30/30 [==============================] - 0s 11ms/step - loss: 0.1190 - accuracy: 0.9566 - val_loss: 0.0521 - val_accuracy: 0.9820\n",
      "Epoch 85/1000\n",
      "30/30 [==============================] - 0s 11ms/step - loss: 0.1373 - accuracy: 0.9478 - val_loss: 0.0710 - val_accuracy: 0.9672\n"
     ]
    },
    {
     "data": {
      "text/plain": [
       "<Figure size 432x288 with 0 Axes>"
      ]
     },
     "metadata": {},
     "output_type": "display_data"
    }
   ],
   "source": [
    "knn(X_train, y_train, X_test, y_test)\n",
    "decision_tree(X_train, y_train, X_test, y_test)\n",
    "ann_model(X_train, y_train, X_test, y_test)"
   ]
  },
  {
   "cell_type": "code",
   "execution_count": null,
   "metadata": {},
   "outputs": [],
   "source": []
  }
 ],
 "metadata": {
  "interpreter": {
   "hash": "7655d9d87d72f7863ec8a6d3178f838b8e50288ba076228c8841638c6799c4ae"
  },
  "kernelspec": {
   "display_name": "Python 3.8.8 64-bit",
   "language": "python",
   "name": "python3"
  },
  "language_info": {
   "codemirror_mode": {
    "name": "ipython",
    "version": 3
   },
   "file_extension": ".py",
   "mimetype": "text/x-python",
   "name": "python",
   "nbconvert_exporter": "python",
   "pygments_lexer": "ipython3",
   "version": "3.8.8"
  },
  "orig_nbformat": 4
 },
 "nbformat": 4,
 "nbformat_minor": 2
}
